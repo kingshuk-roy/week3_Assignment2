{
  "nbformat": 4,
  "nbformat_minor": 0,
  "metadata": {
    "colab": {
      "provenance": []
    },
    "kernelspec": {
      "name": "python3",
      "display_name": "Python 3"
    },
    "language_info": {
      "name": "python"
    }
  },
  "cells": [
    {
      "cell_type": "code",
      "execution_count": 1,
      "metadata": {
        "id": "UXQGVeIERv-y",
        "colab": {
          "base_uri": "https://localhost:8080/"
        },
        "outputId": "1668819d-553a-44cb-dc05-5f7b20791ae4"
      },
      "outputs": [
        {
          "output_type": "stream",
          "name": "stdout",
          "text": [
            "[('Virat Kohli', 24936), ('Jack Kallis', 25534), ('Ricky Ponting', 27483), ('Sachin Tendulkar', 34357)]\n"
          ]
        }
      ],
      "source": [
        "# Q1. Create a python program to sort the given list of tuples based on integer value using a lambda function.\n",
        "# [('Sachin Tendulkar', 34357), ('Ricky Ponting', 27483), ('Jack Kallis', 25534), ('Virat Kohli', 24936)]\n",
        "\n",
        "\n",
        "l = [('Sachin Tendulkar', 34357), ('Ricky Ponting', 27483), ('Jack Kallis', 25534), ('Virat Kohli', 24936)]\n",
        "l1=[]\n",
        "for i in range(len(l)):\n",
        "  l1.append(l[i][1])\n",
        "l1.sort()\n",
        "l1\n",
        "l2=[]\n",
        "for i in l1:\n",
        "  for j in l:\n",
        "    if i == j[1]:\n",
        "      l2.append(j)\n",
        "print(l2)\n"
      ]
    },
    {
      "cell_type": "code",
      "source": [
        "# Q2. Write a Python Program to find the squares of all the numbers in the given list of integers using lambda and map functions.\n",
        "# [1, 2, 3, 4, 5, 6, 7, 8, 9, 10]\n",
        "\n",
        "l = [1, 2, 3, 4, 5, 6, 7, 8, 9, 10]\n",
        "sq=list(map(lambda x: x**2,l))\n",
        "print(sq)"
      ],
      "metadata": {
        "colab": {
          "base_uri": "https://localhost:8080/"
        },
        "id": "k6J5pLkX9F1B",
        "outputId": "75cb3d38-6c52-4037-cff1-31ea2e330a84"
      },
      "execution_count": 2,
      "outputs": [
        {
          "output_type": "stream",
          "name": "stdout",
          "text": [
            "[1, 4, 9, 16, 25, 36, 49, 64, 81, 100]\n"
          ]
        }
      ]
    },
    {
      "cell_type": "code",
      "source": [
        "# Q3. Write a python program to convert the given list of integers into a tuple of strings. Use map and lambda functions\n",
        "# Given String: [1, 2, 3, 4, 5, 6, 7, 8, 9, 10]\n",
        "# Expected output: ('1', '2', '3', '4', '5', '6', '7', '8', '9', '10')\n",
        "\n",
        "l = [1, 2, 3, 4, 5, 6, 7, 8, 9, 10]\n",
        "st = tuple(map(lambda x:str(x),l))\n",
        "st"
      ],
      "metadata": {
        "colab": {
          "base_uri": "https://localhost:8080/"
        },
        "id": "olemfncA9dnx",
        "outputId": "19eb9810-e305-4a1e-bb79-81a475fbce91"
      },
      "execution_count": 3,
      "outputs": [
        {
          "output_type": "execute_result",
          "data": {
            "text/plain": [
              "('1', '2', '3', '4', '5', '6', '7', '8', '9', '10')"
            ]
          },
          "metadata": {},
          "execution_count": 3
        }
      ]
    },
    {
      "cell_type": "code",
      "source": [
        "# Q4. Write a python program using reduce function to compute the product of a list containing numbers from 1 to 25.\n",
        "\n",
        "l = list(range(1,26))\n",
        "print(l)\n",
        "from functools import reduce\n",
        "product = reduce(lambda x,y:x*y,l)\n",
        "product"
      ],
      "metadata": {
        "colab": {
          "base_uri": "https://localhost:8080/"
        },
        "id": "0d6Hvazv9tUQ",
        "outputId": "33d7aedd-b6eb-47fb-9e0e-1b28c5a29841"
      },
      "execution_count": 4,
      "outputs": [
        {
          "output_type": "stream",
          "name": "stdout",
          "text": [
            "[1, 2, 3, 4, 5, 6, 7, 8, 9, 10, 11, 12, 13, 14, 15, 16, 17, 18, 19, 20, 21, 22, 23, 24, 25]\n"
          ]
        },
        {
          "output_type": "execute_result",
          "data": {
            "text/plain": [
              "15511210043330985984000000"
            ]
          },
          "metadata": {},
          "execution_count": 4
        }
      ]
    },
    {
      "cell_type": "code",
      "source": [
        "# Q5. Write a python program to filter the numbers in a given list that are divisible by 2 and 3 using the filter function.\n",
        "# [2, 3, 6, 9, 27, 60, 90, 120, 55, 46]\n",
        "\n",
        "l=[2, 3, 6, 9, 27, 60, 90, 120, 55, 46]\n",
        "\n",
        "divisible = list(filter(lambda x : x%2==0 and x%3==0, l))\n",
        "divisible"
      ],
      "metadata": {
        "colab": {
          "base_uri": "https://localhost:8080/"
        },
        "id": "7B-hIVCf-D-H",
        "outputId": "69de8bb1-bd48-46a1-bca3-e5417b6619ce"
      },
      "execution_count": 5,
      "outputs": [
        {
          "output_type": "execute_result",
          "data": {
            "text/plain": [
              "[6, 60, 90, 120]"
            ]
          },
          "metadata": {},
          "execution_count": 5
        }
      ]
    },
    {
      "cell_type": "code",
      "source": [
        "# Q6. Write a python program to find palindromes in the given list of strings using lambda and filter function.\n",
        "# ['python', 'php', 'aba', 'radar', 'level']\n",
        "l=['python', 'php', 'aba', 'radar', 'level']\n",
        "l1=list(filter(lambda x: x==x[::-1], l))\n",
        "print(l1)"
      ],
      "metadata": {
        "colab": {
          "base_uri": "https://localhost:8080/"
        },
        "id": "IToCue7s_EKZ",
        "outputId": "8083238f-70f0-4641-fd77-3241915f5242"
      },
      "execution_count": 6,
      "outputs": [
        {
          "output_type": "stream",
          "name": "stdout",
          "text": [
            "['php', 'aba', 'radar', 'level']\n"
          ]
        }
      ]
    }
  ]
}